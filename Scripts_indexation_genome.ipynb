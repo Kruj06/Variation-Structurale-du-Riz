## Créer le répertoire mapping dans le répertoire de travail

mkdir -p /shared/home/$USER/Projet_SNP/mapping

## Se déplacer dans le répertoire créé

cd /shared/home/$USER/Projet_SNP/mapping
