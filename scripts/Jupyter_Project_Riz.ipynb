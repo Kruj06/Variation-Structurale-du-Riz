{
 "cells": [
  {
   "cell_type": "markdown",
   "id": "0323bc93-6e51-40a3-923f-a78f9ad297b5",
   "metadata": {},
   "source": [
    "# __BIOINFORMATICS ANALYSIS STRATEGY - \n",
    "\n",
    "KOUKE R. Jaures, Broline AMURI\n",
    "\n",
    "Jupyter inspired by the model created by C. Tranchant (DIADE-IRD), J. Orjuela (DIADE-IRD), F. Sabot (DIADE-IRD) and A. Dereeper (PHIM-IRD)\n",
    "***\n",
    "\n",
    "# <span style=\"color: #006E7F\">Table of contents</span>\n",
    "<a class=\"anchor\" id=\"home\"></a>\n",
    "\n",
    "\n",
    "[PRACTICE I - Reads Quality Control](#quality) \n",
    "   * [Fastqc  `fastqc`](#quality)\n",
    "   * [Multiqc `multiqc`](#quality)\n",
    "\n",
    "[PRACTICE II - Mapping on all samples](#mapping) \n",
    "   * [Reference indexation  `bwa-mem2 index`](#refindex)\n",
    "   * [Mapping with `bwa-mem2 mem`](#bwamem2-cmd)\n",
    "   * [Convert sam to bam `samtools view`](#samtoolsview)\n",
    "   * [Mapping statistics `samtools flagstat`](#flagstats)\n",
    "   * [Filter correctly mapped reads `samtools view`](#corrmap)\n",
    "   * [Sorting out filtered reads `samtools sort`](#sort)\n",
    "   * [File indexing bam sorted  `samtools index`](#indexbam) \n",
    "\n",
    "[PRACTICE III- SNP calling](#SNP)\n",
    "   * [Reference genome indexing `samtools faidx`](#refindex)\n",
    "   * [Generate bcf file `bcftools mpileup`](#bcftools)\n",
    "   * [Calling `bcftools call`](#calling)\n",
    "   * [SNP statistiques `bcftools stats`](#stats)\n",
    "   * [SNP annotation](#annotation)\n",
    "   \n",
    "   \n",
    "\n",
    "***"
   ]
  },
  {
   "cell_type": "markdown",
   "id": "f5f51772-00b4-4891-ad8d-d45bab96a1dd",
   "metadata": {},
   "source": [
    "# __Practice I - Reads quality control__"
   ]
  },
  {
   "cell_type": "code",
   "execution_count": null,
   "id": "d157c502-05f6-4f26-97cd-2195407da2d7",
   "metadata": {},
   "outputs": [],
   "source": [
    "## Create a qc directory in the work directory in which to store quality control results.\n",
    "\n",
    "mkdir -p /scratch/Projet_Riz/qc\n",
    "\n",
    "## Moving in the qc directory\n",
    "\n",
    "cd /scratch/Projet_Riz/qc"
   ]
  },
  {
   "cell_type": "markdown",
   "id": "ebf857c2-9881-40b6-b934-479abb32ef03",
   "metadata": {},
   "source": [
    "## __II.1. Fastqc__"
   ]
  },
  {
   "cell_type": "code",
   "execution_count": null,
   "id": "de3dd6e0-8769-46db-983e-b36b4221f48b",
   "metadata": {},
   "outputs": [],
   "source": [
    "## Create the fastqc directory for outputs \n",
    "\n",
    "mkdir fastqc\n",
    "\n",
    "## Move to the fastqc directory\n",
    "\n",
    "cd fastqc"
   ]
  },
  {
   "cell_type": "code",
   "execution_count": null,
   "id": "1dd1ea7d-57dd-4793-8a56-1523f3e348ce",
   "metadata": {},
   "outputs": [],
   "source": [
    "## Load the fastqc module, taking the version into account\n",
    "\n",
    "module load fastqc/0.12.1"
   ]
  },
  {
   "cell_type": "code",
   "execution_count": null,
   "id": "c1604cca-0093-402f-8ed5-3e11b4b7be36",
   "metadata": {},
   "outputs": [],
   "source": [
    "## Display the help menu for the fastqc command\n",
    "\n",
    "fastqc --help"
   ]
  },
  {
   "cell_type": "code",
   "execution_count": null,
   "id": "9d288b70-5f9c-4ca7-9127-14db2f8f99b0",
   "metadata": {},
   "outputs": [],
   "source": [
    "## Run quality control command on fastq.gz sequencing data\n",
    "\n",
    "fastqc /home/rkouke/Projet_Riz/01.RawData/*.fastq.gz -o /scratch/Projet_Riz/qc/fastqc"
   ]
  },
  {
   "cell_type": "code",
   "execution_count": null,
   "id": "596613b0-3670-42de-8882-b1b83d3f53d2",
   "metadata": {},
   "outputs": [],
   "source": [
    "## Check content\n",
    "\n",
    "ls -lh"
   ]
  },
  {
   "cell_type": "raw",
   "id": "e3f3384b-9e7c-4892-8d08-2e87ddf56690",
   "metadata": {
    "vscode": {
     "languageId": "raw"
    }
   },
   "source": [
    "### Use generated html files to check read quality "
   ]
  },
  {
   "cell_type": "markdown",
   "id": "eb3a6207-170d-4af7-8ea6-fd50b295c59d",
   "metadata": {},
   "source": [
    "## __II.2. MULTIQC__"
   ]
  },
  {
   "cell_type": "code",
   "execution_count": null,
   "id": "8c1c179f-d678-49aa-bb1c-db228142aedf",
   "metadata": {},
   "outputs": [],
   "source": [
    "## Creating the multiqc directory for outputs \n",
    "\n",
    "mkdir -p /scratch/Projet_Riz/qc/multiqc\n",
    "\n",
    "## Move to the fastqc directory\n",
    "\n",
    "cd /scratch/Projet_Riz/qc/multiqc"
   ]
  },
  {
   "cell_type": "code",
   "execution_count": null,
   "id": "d49c23bf-7c62-4a05-9622-94b0016cd48b",
   "metadata": {},
   "outputs": [],
   "source": [
    "## Load multiqc module to compress fastqc reports into a single report\n",
    "\n",
    "module load multiqc/1.13"
   ]
  },
  {
   "cell_type": "code",
   "execution_count": null,
   "id": "606bab42-27aa-4133-9e07-580555d2728b",
   "metadata": {},
   "outputs": [],
   "source": [
    "## Run analysis command\n",
    "\n",
    "multiqc /scratch/Projet_Riz/qc/fastqc -o /scratch/Projet_Riz/qc/multiqc"
   ]
  },
  {
   "cell_type": "code",
   "execution_count": null,
   "id": "a65f4c38-1f38-457c-bd60-a44128a5c053",
   "metadata": {},
   "outputs": [],
   "source": [
    "## Check content\n",
    "\n",
    "ls -lh"
   ]
  },
  {
   "cell_type": "raw",
   "id": "defbffb9-e028-4e15-b97e-b41c0ae0594e",
   "metadata": {
    "vscode": {
     "languageId": "raw"
    }
   },
   "source": [
    "### Exploiting the unique html file generated"
   ]
  }
 ],
 "metadata": {
  "kernelspec": {
   "display_name": "Bash",
   "language": "bash",
   "name": "bash"
  },
  "language_info": {
   "codemirror_mode": "shell",
   "file_extension": ".sh",
   "mimetype": "text/x-sh",
   "name": "bash"
  }
 },
 "nbformat": 4,
 "nbformat_minor": 5
}
